{
  "metadata": {
    "kernelspec": {
      "name": "python",
      "display_name": "Python (Pyodide)",
      "language": "python"
    },
    "language_info": {
      "codemirror_mode": {
        "name": "python",
        "version": 3
      },
      "file_extension": ".py",
      "mimetype": "text/x-python",
      "name": "python",
      "nbconvert_exporter": "python",
      "pygments_lexer": "ipython3",
      "version": "3.8"
    }
  },
  "nbformat_minor": 4,
  "nbformat": 4,
  "cells": [
    {
      "cell_type": "markdown",
      "source": "# 두 개의 자연수를 입력 받아 나눗셈을 수행하는 함수\ndef divide_numbers():\n    try:\n        # 사용자로부터 입력 받기\n        num1 = int(input(\"첫 번째 자연수를 입력하세요: \"))\n        num2 = int(input(\"두 번째 자연수를 입력하세요: \"))\n        \n        # 입력 값이 자연수인지 확인\n        if num1 <= 0 or num2 <= 0:\n            raise ValueError(\"입력 값은 자연수여야 합니다.\")\n        \n        # 나눗셈 수행\n        result = num1 / num2\n        \n    except ValueError as ve:\n        # 입력 오류 처리\n        print(f\"입력 오류: {ve}\")\n    except ZeroDivisionError:\n        # 0으로 나누기 오류 처리\n        print(\"계산 오류: 0으로 나눌 수 없습니다.\")\n    except Exception as e:\n        # 기타 오류 처리\n        print(f\"오류 발생: {e}\")\n    else:\n        # 오류가 발생하지 않은 경우 결과 출력\n        print(f\"결과: {num1} / {num2} = {result}\")\n\n# 함수 실행\ndivide_numbers()\n",
      "metadata": {}
    }
  ]
}